{
 "cells": [
  {
   "cell_type": "markdown",
   "metadata": {},
   "source": [
    "This script will generate a tile index based on a small set of input parameters. \n",
    "The tile index can be used with cluster.py by adding a new augmentation type to \"load_index\""
   ]
  },
  {
   "cell_type": "code",
   "execution_count": 1,
   "metadata": {
    "collapsed": false
   },
   "outputs": [],
   "source": [
    "import urllib, json, os\n",
    "\n",
    "zoom = 12 #choose based on size of input geometries. should be smaller by roughly 1/2 an order of magnitude\n",
    "source = 'tl_2014_census_tracts'\n",
    "account = 'andrew'\n",
    "id_column = 'geoid'\n",
    "index_name = 'census'\n",
    "sql = \"WITH c AS ( \\\n",
    "        SELECT CDB_XYZ_Extent(x, y, \"+str(zoom)+\") g, x, y \\\n",
    "        FROM GENERATE_SERIES(0,pow(2, \"+str(zoom)+\")::int-1) x, GENERATE_SERIES(0,pow(2, \"+str(zoom)+\")::int - 1) y), \\\n",
    "       geoms AS ( \\\n",
    "        SELECT \"+id_column+\" as id, c.x, c.y, \"+str(zoom)+\" as zoom \\\n",
    "        FROM \"+source+\", c WHERE ST_Intersects(\"+source+\".the_geom_webmercator, c.g)) \\\n",
    "       SELECT x, y, ARRAY_AGG(id) ids FROM geoms GROUP BY x,y ORDER BY x asc, y desc \"\n",
    "api_key = False\n"
   ]
  },
  {
   "cell_type": "code",
   "execution_count": 2,
   "metadata": {
    "collapsed": false
   },
   "outputs": [],
   "source": [
    "# Get SQL API key\n",
    "api_key = os.environ.get('ANDREW_API_KEY')"
   ]
  },
  {
   "cell_type": "code",
   "execution_count": 3,
   "metadata": {
    "collapsed": false
   },
   "outputs": [
    {
     "name": "stdout",
     "output_type": "stream",
     "text": [
      "242759\n"
     ]
    }
   ],
   "source": [
    "if api_key:\n",
    "    url = \"http://\"+account+\".cartodb.com/api/v2/sql?\"+urllib.urlencode({'q': sql, 'api_key': api_key})\n",
    "else:\n",
    "    url = \"http://\"+account+\".cartodb.com/api/v2/sql?\"+urllib.urlencode({'q': sql})\n",
    "response = urllib.urlopen(url)\n",
    "tiles = json.loads(response.read())\n",
    "print len(tiles['rows'])"
   ]
  },
  {
   "cell_type": "code",
   "execution_count": 4,
   "metadata": {
    "collapsed": false
   },
   "outputs": [
    {
     "name": "stdout",
     "output_type": "stream",
     "text": [
      "73915\n"
     ]
    }
   ],
   "source": [
    "# reformat for lookup\n",
    "output = {}\n",
    "ids = []\n",
    "for row in tiles['rows']:\n",
    "    # x = 2**(zoom) - 1 - row['x']\n",
    "    x = row['x']\n",
    "    if x not in output:\n",
    "        output[x] = {}\n",
    "    if row['y'] not in output:\n",
    "        output[x][row['y']] = []\n",
    "    output[x][row['y']] = output[x][row['y']] + row['ids']\n",
    "    \n",
    "    # store unique geo_ids\n",
    "    all_ids = set(ids)\n",
    "    new_ids = set(row['ids'])\n",
    "    additions = new_ids - all_ids\n",
    "    ids = ids + list(additions)\n",
    "print len(ids)"
   ]
  },
  {
   "cell_type": "code",
   "execution_count": 5,
   "metadata": {
    "collapsed": false
   },
   "outputs": [],
   "source": [
    "# write to disk\n",
    "with open('data/'+index_name+'.11.json', 'w') as outfile:\n",
    "    json.dump({\"zoom\": zoom, \"index_name\": index_name, \"index\": output, \"geometry_directory\": 'data/'+index_name }, outfile)"
   ]
  },
  {
   "cell_type": "code",
   "execution_count": 25,
   "metadata": {
    "collapsed": false
   },
   "outputs": [],
   "source": [
    "# divide up our records into groups of 100 for downloading\n",
    "upper_aggs = {}\n",
    "if not os.path.exists('data/z'+index_name):\n",
    "    os.makedirs('data/'+index_name)\n",
    "for chunk in [ids[i:i + 100] for i in range(0, len(ids), 100)]:\n",
    "    # at the same time, we'll create our aggregate augmentations for state and county\n",
    "    # TODO: add zcta column to the source data so include in upper_aggs\n",
    "    id_list = []\n",
    "    for c in chunk:\n",
    "        id_list.append(\"'\"+str(c)+\"'\")\n",
    "    sql = \"SELECT ST_MakeValid(the_geom) the_geom, \"+id_column+\" AS id, statefp as statefp, countyfp as countyfp FROM \"+source+\" WHERE \"+id_column+\" IN (\"+','.join(id_list)+\")\"\n",
    "    if api_key:\n",
    "        url = \"http://\"+account+\".cartodb.com/api/v2/sql?\"+urllib.urlencode({'q': sql, 'format':'geojson', 'api_key': api_key})\n",
    "    else:\n",
    "        url = \"http://\"+account+\".cartodb.com/api/v2/sql?\"+urllib.urlencode({'q': sql, 'format':'geojson'})\n",
    "    response = urllib.urlopen(url)\n",
    "    try:\n",
    "        data = json.loads(response.read())\n",
    "        for i in data['features']:\n",
    "            name = i['properties']['id']\n",
    "            geom = i['geometry']\n",
    "            # Format of the aggs index for use in the augmentation\n",
    "            upper_aggs[name] = {'statefp': i['properties']['statefp'], 'countyfp': i['properties']['countyfp']}\n",
    "            # write to disk\n",
    "            with open('data/'+index_name+'/'+str(name)+'.json', 'w') as outfile:\n",
    "                json.dump(geom, outfile)\n",
    "    except:\n",
    "        print 'Error:',response.read()\n"
   ]
  },
  {
   "cell_type": "code",
   "execution_count": 26,
   "metadata": {
    "collapsed": false
   },
   "outputs": [],
   "source": [
    "\n",
    "# Aggregation index in format:\n",
    "# {census_id: {statefp: text, countyfp: text}}\n",
    "with open('data/'+index_name+'_aggregates.json', 'w') as outfile:\n",
    "    json.dump(upper_aggs, outfile)\n",
    "        "
   ]
  },
  {
   "cell_type": "code",
   "execution_count": 11,
   "metadata": {
    "collapsed": false
   },
   "outputs": [
    {
     "data": {
      "text/plain": [
       "512"
      ]
     },
     "execution_count": 11,
     "metadata": {},
     "output_type": "execute_result"
    }
   ],
   "source": [
    "\n"
   ]
  },
  {
   "cell_type": "code",
   "execution_count": null,
   "metadata": {
    "collapsed": true
   },
   "outputs": [],
   "source": []
  }
 ],
 "metadata": {
  "kernelspec": {
   "display_name": "Python 2",
   "language": "python",
   "name": "python2"
  },
  "language_info": {
   "codemirror_mode": {
    "name": "ipython",
    "version": 2
   },
   "file_extension": ".py",
   "mimetype": "text/x-python",
   "name": "python",
   "nbconvert_exporter": "python",
   "pygments_lexer": "ipython2",
   "version": "2.7.6"
  }
 },
 "nbformat": 4,
 "nbformat_minor": 0
}
